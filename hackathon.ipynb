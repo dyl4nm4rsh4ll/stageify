{
 "cells": [
  {
   "cell_type": "code",
   "execution_count": 1,
   "metadata": {},
   "outputs": [
    {
     "name": "stdout",
     "output_type": "stream",
     "text": [
      "Collecting octoai\n",
      "  Using cached octoai-1.5.0-py3-none-any.whl.metadata (6.0 kB)\n",
      "Collecting boto3<2.0.0,>=1.34.75 (from octoai)\n",
      "  Using cached boto3-1.34.145-py3-none-any.whl.metadata (6.6 kB)\n",
      "Collecting httpx>=0.21.2 (from octoai)\n",
      "  Using cached httpx-0.27.0-py3-none-any.whl.metadata (7.2 kB)\n",
      "Collecting httpx-sse==0.4.0 (from octoai)\n",
      "  Using cached httpx_sse-0.4.0-py3-none-any.whl.metadata (9.0 kB)\n",
      "Collecting pydantic>=1.9.2 (from octoai)\n",
      "  Using cached pydantic-2.8.2-py3-none-any.whl.metadata (125 kB)\n",
      "Collecting types-boto3<2.0,>=1.0 (from octoai)\n",
      "  Using cached types_boto3-1.0.2-py3-none-any.whl.metadata (9.7 kB)\n",
      "Requirement already satisfied: typing_extensions>=4.0.0 in ./venv/lib/python3.11/site-packages (from octoai) (4.12.2)\n",
      "Collecting botocore<1.35.0,>=1.34.145 (from boto3<2.0.0,>=1.34.75->octoai)\n",
      "  Using cached botocore-1.34.145-py3-none-any.whl.metadata (5.7 kB)\n",
      "Collecting jmespath<2.0.0,>=0.7.1 (from boto3<2.0.0,>=1.34.75->octoai)\n",
      "  Using cached jmespath-1.0.1-py3-none-any.whl.metadata (7.6 kB)\n",
      "Collecting s3transfer<0.11.0,>=0.10.0 (from boto3<2.0.0,>=1.34.75->octoai)\n",
      "  Using cached s3transfer-0.10.2-py3-none-any.whl.metadata (1.7 kB)\n",
      "Collecting anyio (from httpx>=0.21.2->octoai)\n",
      "  Using cached anyio-4.4.0-py3-none-any.whl.metadata (4.6 kB)\n",
      "Collecting certifi (from httpx>=0.21.2->octoai)\n",
      "  Using cached certifi-2024.7.4-py3-none-any.whl.metadata (2.2 kB)\n",
      "Collecting httpcore==1.* (from httpx>=0.21.2->octoai)\n",
      "  Using cached httpcore-1.0.5-py3-none-any.whl.metadata (20 kB)\n",
      "Collecting idna (from httpx>=0.21.2->octoai)\n",
      "  Using cached idna-3.7-py3-none-any.whl.metadata (9.9 kB)\n",
      "Collecting sniffio (from httpx>=0.21.2->octoai)\n",
      "  Using cached sniffio-1.3.1-py3-none-any.whl.metadata (3.9 kB)\n",
      "Collecting h11<0.15,>=0.13 (from httpcore==1.*->httpx>=0.21.2->octoai)\n",
      "  Using cached h11-0.14.0-py3-none-any.whl.metadata (8.2 kB)\n",
      "Collecting annotated-types>=0.4.0 (from pydantic>=1.9.2->octoai)\n",
      "  Using cached annotated_types-0.7.0-py3-none-any.whl.metadata (15 kB)\n",
      "Collecting pydantic-core==2.20.1 (from pydantic>=1.9.2->octoai)\n",
      "  Using cached pydantic_core-2.20.1-cp311-cp311-macosx_11_0_arm64.whl.metadata (6.6 kB)\n",
      "Collecting boto3-stubs (from types-boto3<2.0,>=1.0->octoai)\n",
      "  Using cached boto3_stubs-1.34.145-py3-none-any.whl.metadata (142 kB)\n",
      "Requirement already satisfied: python-dateutil<3.0.0,>=2.1 in ./venv/lib/python3.11/site-packages (from botocore<1.35.0,>=1.34.145->boto3<2.0.0,>=1.34.75->octoai) (2.9.0.post0)\n",
      "Collecting urllib3!=2.2.0,<3,>=1.25.4 (from botocore<1.35.0,>=1.34.145->boto3<2.0.0,>=1.34.75->octoai)\n",
      "  Using cached urllib3-2.2.2-py3-none-any.whl.metadata (6.4 kB)\n",
      "Collecting botocore-stubs (from boto3-stubs->types-boto3<2.0,>=1.0->octoai)\n",
      "  Using cached botocore_stubs-1.34.145-py3-none-any.whl.metadata (3.4 kB)\n",
      "Collecting types-s3transfer (from boto3-stubs->types-boto3<2.0,>=1.0->octoai)\n",
      "  Using cached types_s3transfer-0.10.1-py3-none-any.whl.metadata (3.8 kB)\n",
      "Requirement already satisfied: six>=1.5 in ./venv/lib/python3.11/site-packages (from python-dateutil<3.0.0,>=2.1->botocore<1.35.0,>=1.34.145->boto3<2.0.0,>=1.34.75->octoai) (1.16.0)\n",
      "Collecting types-awscrt (from botocore-stubs->boto3-stubs->types-boto3<2.0,>=1.0->octoai)\n",
      "  Using cached types_awscrt-0.21.2-py3-none-any.whl.metadata (3.6 kB)\n",
      "Using cached octoai-1.5.0-py3-none-any.whl (107 kB)\n",
      "Using cached httpx_sse-0.4.0-py3-none-any.whl (7.8 kB)\n",
      "Using cached boto3-1.34.145-py3-none-any.whl (139 kB)\n",
      "Using cached httpx-0.27.0-py3-none-any.whl (75 kB)\n",
      "Using cached httpcore-1.0.5-py3-none-any.whl (77 kB)\n",
      "Using cached pydantic-2.8.2-py3-none-any.whl (423 kB)\n",
      "Using cached pydantic_core-2.20.1-cp311-cp311-macosx_11_0_arm64.whl (1.8 MB)\n",
      "Using cached types_boto3-1.0.2-py3-none-any.whl (5.1 kB)\n",
      "Using cached annotated_types-0.7.0-py3-none-any.whl (13 kB)\n",
      "Using cached botocore-1.34.145-py3-none-any.whl (12.4 MB)\n",
      "Using cached jmespath-1.0.1-py3-none-any.whl (20 kB)\n",
      "Using cached s3transfer-0.10.2-py3-none-any.whl (82 kB)\n",
      "Using cached anyio-4.4.0-py3-none-any.whl (86 kB)\n",
      "Using cached idna-3.7-py3-none-any.whl (66 kB)\n",
      "Using cached sniffio-1.3.1-py3-none-any.whl (10 kB)\n",
      "Using cached boto3_stubs-1.34.145-py3-none-any.whl (56 kB)\n",
      "Using cached certifi-2024.7.4-py3-none-any.whl (162 kB)\n",
      "Using cached h11-0.14.0-py3-none-any.whl (58 kB)\n",
      "Using cached urllib3-2.2.2-py3-none-any.whl (121 kB)\n",
      "Using cached botocore_stubs-1.34.145-py3-none-any.whl (59 kB)\n",
      "Using cached types_s3transfer-0.10.1-py3-none-any.whl (17 kB)\n",
      "Using cached types_awscrt-0.21.2-py3-none-any.whl (17 kB)\n",
      "Installing collected packages: urllib3, types-s3transfer, types-awscrt, sniffio, pydantic-core, jmespath, idna, httpx-sse, h11, certifi, annotated-types, pydantic, httpcore, botocore-stubs, botocore, anyio, s3transfer, httpx, boto3-stubs, types-boto3, boto3, octoai\n",
      "Successfully installed annotated-types-0.7.0 anyio-4.4.0 boto3-1.34.145 boto3-stubs-1.34.145 botocore-1.34.145 botocore-stubs-1.34.145 certifi-2024.7.4 h11-0.14.0 httpcore-1.0.5 httpx-0.27.0 httpx-sse-0.4.0 idna-3.7 jmespath-1.0.1 octoai-1.5.0 pydantic-2.8.2 pydantic-core-2.20.1 s3transfer-0.10.2 sniffio-1.3.1 types-awscrt-0.21.2 types-boto3-1.0.2 types-s3transfer-0.10.1 urllib3-2.2.2\n"
     ]
    }
   ],
   "source": [
    "!pip3.11 install octoai"
   ]
  },
  {
   "cell_type": "code",
   "execution_count": 2,
   "metadata": {},
   "outputs": [],
   "source": [
    "from octoai.client import OctoAI"
   ]
  },
  {
   "cell_type": "code",
   "execution_count": 3,
   "metadata": {},
   "outputs": [
    {
     "name": "stdout",
     "output_type": "stream",
     "text": [
      "octoai==1.5.0\n"
     ]
    }
   ],
   "source": [
    "!pip3.11 freeze | grep \"octo\""
   ]
  },
  {
   "cell_type": "code",
   "execution_count": 14,
   "metadata": {},
   "outputs": [
    {
     "name": "stdout",
     "output_type": "stream",
     "text": [
      "Found existing installation: octoai-sdk 0.10.1\n",
      "Uninstalling octoai-sdk-0.10.1:\n",
      "  Successfully uninstalled octoai-sdk-0.10.1\n"
     ]
    }
   ],
   "source": [
    "!pip3.11 uninstall octoai-sdk -y"
   ]
  },
  {
   "cell_type": "code",
   "execution_count": 33,
   "metadata": {},
   "outputs": [],
   "source": [
    "from octoai.util import to_file, from_file\n",
    "from octoai.client import OctoAI\n",
    "\n",
    "if __name__ == \"__main__\":\n",
    "    client = OctoAI()\n",
    "\n",
    "    client = OctoAI(\n",
    "    api_key=\"eyJhbGciOiJSUzI1NiIsInR5cCI6IkpXVCIsImtpZCI6IjNkMjMzOTQ5In0.eyJzdWIiOiI3MGFmZGRlYi04YTU4LTQ3MTUtOTQzYi1iYzFmYTJlNDdkOWYiLCJ0eXBlIjoidXNlckFjY2Vzc1Rva2VuIiwidGVuYW50SWQiOiJmNGE5ZWIxNi1kNzA5LTRmZWEtYmFjZC02MzExNGM0ZjQ0MjciLCJ1c2VySWQiOiJmODhhNjNkZC01YmM0LTQ3MzctYWY1MC1kMWRhYzdiZjFiN2YiLCJhcHBsaWNhdGlvbklkIjoiYTkyNmZlYmQtMjFlYS00ODdiLTg1ZjUtMzQ5NDA5N2VjODMzIiwicm9sZXMiOlsiRkVUQ0gtUk9MRVMtQlktQVBJIl0sInBlcm1pc3Npb25zIjpbIkZFVENILVBFUk1JU1NJT05TLUJZLUFQSSJdLCJhdWQiOiIzZDIzMzk0OS1hMmZiLTRhYjAtYjdlYy00NmY2MjU1YzUxMGUiLCJpc3MiOiJodHRwczovL2lkZW50aXR5Lm9jdG8uYWkiLCJpYXQiOjE3MjE0OTk5Mjd9.EBtUxtL3JvSmWX7IFzPrcTLeNrI_n1xOxNKse5jS43ZdT8UtZddY6zU6M23IxF73qiXd_3c4GZLmCZ2DGKnh94XSzx49FK85EfhogCvPDsQWfkVclVgzQ-LFBvzqbIgF80VBxygZ4-iYQeKGRCGLLTvsG6O2PbIwBAq5jBYKN1SXuPWUqbZpdDt71vgcJGperLWOuW1ZKeCbmEeszQoMvVZVy5fExpGqrDiR4aFlov7_elCHpnHQw3leqPns-HAYMnZMEGRtTNrPP8nl9MbsJRZmzQF3_fTTRM8a-355OvEO-iHXQ3-z2qaY4KwcuHH2rTcqggrGAo0ELGZWnpMwvg\",\n",
    "    )        \n",
    "\n",
    "    init = from_file(\"room.jpg\")\n",
    "    images_resp = client.image_gen.generate_sdxl(\n",
    "        prompt=\"Modify this room with new furniture. Ensure that the exact dimensions of the room, including details such as floor color, are maintained. Decorate the output image with a couch. Also decorate the output image with a lamp. The output image can also include other new furniture.\",\n",
    "        init_image=init, # Only used for image-to-image\n",
    "        strength=0.85, # Only used for image-to-image\n",
    "    )\n",
    "    images = images_resp.images\n",
    "\n",
    "    to_file(images[0], \"room_out.jpg\")\n"
   ]
  },
  {
   "cell_type": "code",
   "execution_count": null,
   "metadata": {},
   "outputs": [],
   "source": []
  },
  {
   "cell_type": "code",
   "execution_count": null,
   "metadata": {},
   "outputs": [],
   "source": []
  },
  {
   "cell_type": "code",
   "execution_count": null,
   "metadata": {},
   "outputs": [],
   "source": []
  }
 ],
 "metadata": {
  "kernelspec": {
   "display_name": "Python 3",
   "language": "python",
   "name": "python3"
  },
  "language_info": {
   "codemirror_mode": {
    "name": "ipython",
    "version": 3
   },
   "file_extension": ".py",
   "mimetype": "text/x-python",
   "name": "python",
   "nbconvert_exporter": "python",
   "pygments_lexer": "ipython3",
   "version": "3.11.9"
  }
 },
 "nbformat": 4,
 "nbformat_minor": 2
}
